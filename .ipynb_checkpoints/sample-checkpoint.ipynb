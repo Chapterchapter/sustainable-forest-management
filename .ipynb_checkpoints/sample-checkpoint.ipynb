{
 "cells": [
  {
   "cell_type": "markdown",
   "id": "c75cfef6-5d55-4f3e-a563-464db52458a9",
   "metadata": {},
   "source": [
    "this is code bock"
   ]
  },
  {
   "cell_type": "markdown",
   "id": "e59e0151-302c-43e2-85b6-517a9fb6a22f",
   "metadata": {},
   "source": [
    "this is a mark down"
   ]
  },
  {
   "cell_type": "code",
   "execution_count": null,
   "id": "bc078958-082a-441d-842b-2038ad76eca3",
   "metadata": {},
   "outputs": [],
   "source": []
  },
  {
   "cell_type": "code",
   "execution_count": null,
   "id": "86bb7114-1539-4fc1-bb8a-d5b6dfb19769",
   "metadata": {},
   "outputs": [],
   "source": [
    "sample file edited \n"
   ]
  }
 ],
 "metadata": {
  "kernelspec": {
   "display_name": "Python 3 (ipykernel)",
   "language": "python",
   "name": "python3"
  },
  "language_info": {
   "codemirror_mode": {
    "name": "ipython",
    "version": 3
   },
   "file_extension": ".py",
   "mimetype": "text/x-python",
   "name": "python",
   "nbconvert_exporter": "python",
   "pygments_lexer": "ipython3",
   "version": "3.12.5"
  }
 },
 "nbformat": 4,
 "nbformat_minor": 5
}
